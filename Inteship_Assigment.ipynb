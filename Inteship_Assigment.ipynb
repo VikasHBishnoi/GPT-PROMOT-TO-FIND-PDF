{
  "cells": [
    {
      "cell_type": "code",
      "execution_count": 1,
      "metadata": {
        "colab": {
          "base_uri": "https://localhost:8080/"
        },
        "id": "I2tg28f12YwI",
        "outputId": "7592d562-66a0-4ada-a0ae-93b489f0c8e6"
      },
      "outputs": [
        {
          "name": "stdout",
          "output_type": "stream",
          "text": [
            "Note: you may need to restart the kernel to use updated packages.\n",
            "Requirement already satisfied: pypdf in c:\\users\\vikas\\appdata\\local\\programs\\python\\python311\\lib\\site-packages (3.9.0)Note: you may need to restart the kernel to use updated packages.\n",
            "\n",
            "Requirement already satisfied: chromadb in c:\\users\\vikas\\appdata\\local\\programs\\python\\python311\\lib\\site-packages (0.3.23)Note: you may need to restart the kernel to use updated packages.\n",
            "\n",
            "Requirement already satisfied: pandas>=1.3 in c:\\users\\vikas\\appdata\\local\\programs\\python\\python311\\lib\\site-packages (from chromadb) (2.0.1)\n",
            "Requirement already satisfied: requests>=2.28 in c:\\users\\vikas\\appdata\\local\\programs\\python\\python311\\lib\\site-packages (from chromadb) (2.30.0)\n",
            "Requirement already satisfied: pydantic>=1.9 in c:\\users\\vikas\\appdata\\local\\programs\\python\\python311\\lib\\site-packages (from chromadb) (1.10.7)\n",
            "Requirement already satisfied: hnswlib>=0.7 in c:\\users\\vikas\\appdata\\local\\programs\\python\\python311\\lib\\site-packages (from chromadb) (0.7.0)\n",
            "Requirement already satisfied: clickhouse-connect>=0.5.7 in c:\\users\\vikas\\appdata\\local\\programs\\python\\python311\\lib\\site-packages (from chromadb) (0.5.24)\n",
            "Requirement already satisfied: sentence-transformers>=2.2.2 in c:\\users\\vikas\\appdata\\local\\programs\\python\\python311\\lib\\site-packages (from chromadb) (2.2.2)\n",
            "Requirement already satisfied: duckdb>=0.7.1 in c:\\users\\vikas\\appdata\\local\\programs\\python\\python311\\lib\\site-packages (from chromadb) (0.8.0)\n",
            "Requirement already satisfied: fastapi>=0.85.1 in c:\\users\\vikas\\appdata\\local\\programs\\python\\python311\\lib\\site-packages (from chromadb) (0.95.2)\n",
            "Requirement already satisfied: uvicorn[standard]>=0.18.3 in c:\\users\\vikas\\appdata\\local\\programs\\python\\python311\\lib\\site-packages (from chromadb) (0.22.0)\n",
            "Requirement already satisfied: numpy>=1.21.6 in c:\\users\\vikas\\appdata\\local\\programs\\python\\python311\\lib\\site-packages (from chromadb) (1.23.5)\n",
            "Requirement already satisfied: posthog>=2.4.0 in c:\\users\\vikas\\appdata\\local\\programs\\python\\python311\\lib\\site-packages (from chromadb) (3.0.1)\n",
            "Requirement already satisfied: typing-extensions>=4.5.0 in c:\\users\\vikas\\appdata\\local\\programs\\python\\python311\\lib\\site-packages (from chromadb) (4.5.0)\n",
            "Requirement already satisfied: certifi in c:\\users\\vikas\\appdata\\local\\programs\\python\\python311\\lib\\site-packages (from clickhouse-connect>=0.5.7->chromadb) (2023.5.7)\n",
            "Requirement already satisfied: urllib3>=1.26 in c:\\users\\vikas\\appdata\\local\\programs\\python\\python311\\lib\\site-packages (from clickhouse-connect>=0.5.7->chromadb) (1.26.15)\n",
            "Requirement already satisfied: pytz in c:\\users\\vikas\\appdata\\local\\programs\\python\\python311\\lib\\site-packages (from clickhouse-connect>=0.5.7->chromadb) (2023.3)\n",
            "Requirement already satisfied: zstandard in c:\\users\\vikas\\appdata\\local\\programs\\python\\python311\\lib\\site-packages (from clickhouse-connect>=0.5.7->chromadb) (0.21.0)\n",
            "Requirement already satisfied: lz4 in c:\\users\\vikas\\appdata\\local\\programs\\python\\python311\\lib\\site-packages (from clickhouse-connect>=0.5.7->chromadb) (4.3.2)\n",
            "Requirement already satisfied: starlette<0.28.0,>=0.27.0 in c:\\users\\vikas\\appdata\\local\\programs\\python\\python311\\lib\\site-packages (from fastapi>=0.85.1->chromadb) (0.27.0)\n",
            "Requirement already satisfied: python-dateutil>=2.8.2 in c:\\users\\vikas\\appdata\\roaming\\python\\python311\\site-packages (from pandas>=1.3->chromadb) (2.8.2)\n",
            "Requirement already satisfied: tzdata>=2022.1 in c:\\users\\vikas\\appdata\\local\\programs\\python\\python311\\lib\\site-packages (from pandas>=1.3->chromadb) (2023.3)\n",
            "Requirement already satisfied: six>=1.5 in c:\\users\\vikas\\appdata\\roaming\\python\\python311\\site-packages (from posthog>=2.4.0->chromadb) (1.16.0)\n",
            "Requirement already satisfied: monotonic>=1.5 in c:\\users\\vikas\\appdata\\local\\programs\\python\\python311\\lib\\site-packages (from posthog>=2.4.0->chromadb) (1.6)\n",
            "Requirement already satisfied: backoff>=1.10.0 in c:\\users\\vikas\\appdata\\local\\programs\\python\\python311\\lib\\site-packages (from posthog>=2.4.0->chromadb) (2.2.1)\n",
            "Requirement already satisfied: charset-normalizer<4,>=2 in c:\\users\\vikas\\appdata\\local\\programs\\python\\python311\\lib\\site-packages (from requests>=2.28->chromadb) (3.1.0)\n",
            "Requirement already satisfied: idna<4,>=2.5 in c:\\users\\vikas\\appdata\\local\\programs\\python\\python311\\lib\\site-packages (from requests>=2.28->chromadb) (3.4)\n",
            "Requirement already satisfied: transformers<5.0.0,>=4.6.0 in c:\\users\\vikas\\appdata\\local\\programs\\python\\python311\\lib\\site-packages (from sentence-transformers>=2.2.2->chromadb) (4.29.2)\n",
            "Requirement already satisfied: tqdm in c:\\users\\vikas\\appdata\\local\\programs\\python\\python311\\lib\\site-packages (from sentence-transformers>=2.2.2->chromadb) (4.65.0)\n",
            "Requirement already satisfied: torch>=1.6.0 in c:\\users\\vikas\\appdata\\local\\programs\\python\\python311\\lib\\site-packages (from sentence-transformers>=2.2.2->chromadb) (2.0.1)\n",
            "Requirement already satisfied: torchvision in c:\\users\\vikas\\appdata\\local\\programs\\python\\python311\\lib\\site-packages (from sentence-transformers>=2.2.2->chromadb) (0.15.2)\n",
            "Requirement already satisfied: scikit-learn in c:\\users\\vikas\\appdata\\local\\programs\\python\\python311\\lib\\site-packages (from sentence-transformers>=2.2.2->chromadb) (1.2.2)\n",
            "Requirement already satisfied: scipy in c:\\users\\vikas\\appdata\\local\\programs\\python\\python311\\lib\\site-packages (from sentence-transformers>=2.2.2->chromadb) (1.10.1)\n",
            "Requirement already satisfied: nltk in c:\\users\\vikas\\appdata\\local\\programs\\python\\python311\\lib\\site-packages (from sentence-transformers>=2.2.2->chromadb) (3.8.1)\n",
            "Requirement already satisfied: sentencepiece in c:\\users\\vikas\\appdata\\local\\programs\\python\\python311\\lib\\site-packages (from sentence-transformers>=2.2.2->chromadb) (0.1.99)\n",
            "Requirement already satisfied: huggingface-hub>=0.4.0 in c:\\users\\vikas\\appdata\\local\\programs\\python\\python311\\lib\\site-packages (from sentence-transformers>=2.2.2->chromadb) (0.14.1)\n",
            "Requirement already satisfied: click>=7.0 in c:\\users\\vikas\\appdata\\local\\programs\\python\\python311\\lib\\site-packages (from uvicorn[standard]>=0.18.3->chromadb) (8.1.3)\n",
            "Requirement already satisfied: h11>=0.8 in c:\\users\\vikas\\appdata\\local\\programs\\python\\python311\\lib\\site-packages (from uvicorn[standard]>=0.18.3->chromadb) (0.14.0)\n",
            "Requirement already satisfied: colorama>=0.4 in c:\\users\\vikas\\appdata\\roaming\\python\\python311\\site-packages (from uvicorn[standard]>=0.18.3->chromadb) (0.4.6)\n",
            "Requirement already satisfied: httptools>=0.5.0 in c:\\users\\vikas\\appdata\\local\\programs\\python\\python311\\lib\\site-packages (from uvicorn[standard]>=0.18.3->chromadb) (0.5.0)\n",
            "Requirement already satisfied: python-dotenv>=0.13 in c:\\users\\vikas\\appdata\\local\\programs\\python\\python311\\lib\\site-packages (from uvicorn[standard]>=0.18.3->chromadb) (1.0.0)\n",
            "Requirement already satisfied: pyyaml>=5.1 in c:\\users\\vikas\\appdata\\local\\programs\\python\\python311\\lib\\site-packages (from uvicorn[standard]>=0.18.3->chromadb) (6.0)\n",
            "Requirement already satisfied: watchfiles>=0.13 in c:\\users\\vikas\\appdata\\local\\programs\\python\\python311\\lib\\site-packages (from uvicorn[standard]>=0.18.3->chromadb) (0.19.0)\n",
            "Requirement already satisfied: websockets>=10.4 in c:\\users\\vikas\\appdata\\local\\programs\\python\\python311\\lib\\site-packages (from uvicorn[standard]>=0.18.3->chromadb) (11.0.3)\n",
            "Requirement already satisfied: filelock in c:\\users\\vikas\\appdata\\local\\programs\\python\\python311\\lib\\site-packages (from huggingface-hub>=0.4.0->sentence-transformers>=2.2.2->chromadb) (3.11.0)\n",
            "Requirement already satisfied: fsspec in c:\\users\\vikas\\appdata\\local\\programs\\python\\python311\\lib\\site-packages (from huggingface-hub>=0.4.0->sentence-transformers>=2.2.2->chromadb) (2023.5.0)\n",
            "Requirement already satisfied: packaging>=20.9 in c:\\users\\vikas\\appdata\\roaming\\python\\python311\\site-packages (from huggingface-hub>=0.4.0->sentence-transformers>=2.2.2->chromadb) (23.1)\n",
            "Requirement already satisfied: anyio<5,>=3.4.0 in c:\\users\\vikas\\appdata\\local\\programs\\python\\python311\\lib\\site-packages (from starlette<0.28.0,>=0.27.0->fastapi>=0.85.1->chromadb) (3.6.2)\n",
            "Requirement already satisfied: sympy in c:\\users\\vikas\\appdata\\local\\programs\\python\\python311\\lib\\site-packages (from torch>=1.6.0->sentence-transformers>=2.2.2->chromadb) (1.11.1)\n",
            "Requirement already satisfied: networkx in c:\\users\\vikas\\appdata\\local\\programs\\python\\python311\\lib\\site-packages (from torch>=1.6.0->sentence-transformers>=2.2.2->chromadb) (3.1)\n",
            "Requirement already satisfied: jinja2 in c:\\users\\vikas\\appdata\\local\\programs\\python\\python311\\lib\\site-packages (from torch>=1.6.0->sentence-transformers>=2.2.2->chromadb) (3.1.2)\n",
            "Requirement already satisfied: regex!=2019.12.17 in c:\\users\\vikas\\appdata\\local\\programs\\python\\python311\\lib\\site-packages (from transformers<5.0.0,>=4.6.0->sentence-transformers>=2.2.2->chromadb) (2023.5.5)\n",
            "Requirement already satisfied: tokenizers!=0.11.3,<0.14,>=0.11.1 in c:\\users\\vikas\\appdata\\local\\programs\\python\\python311\\lib\\site-packages (from transformers<5.0.0,>=4.6.0->sentence-transformers>=2.2.2->chromadb) (0.13.3)\n",
            "Requirement already satisfied: joblib in c:\\users\\vikas\\appdata\\local\\programs\\python\\python311\\lib\\site-packages (from nltk->sentence-transformers>=2.2.2->chromadb) (1.2.0)\n",
            "Requirement already satisfied: threadpoolctl>=2.0.0 in c:\\users\\vikas\\appdata\\local\\programs\\python\\python311\\lib\\site-packages (from scikit-learn->sentence-transformers>=2.2.2->chromadb) (3.1.0)\n",
            "Requirement already satisfied: pillow!=8.3.*,>=5.3.0 in c:\\users\\vikas\\appdata\\local\\programs\\python\\python311\\lib\\site-packages (from torchvision->sentence-transformers>=2.2.2->chromadb) (9.5.0)\n",
            "Requirement already satisfied: sniffio>=1.1 in c:\\users\\vikas\\appdata\\local\\programs\\python\\python311\\lib\\site-packages (from anyio<5,>=3.4.0->starlette<0.28.0,>=0.27.0->fastapi>=0.85.1->chromadb) (1.3.0)\n",
            "Requirement already satisfied: MarkupSafe>=2.0 in c:\\users\\vikas\\appdata\\local\\programs\\python\\python311\\lib\\site-packages (from jinja2->torch>=1.6.0->sentence-transformers>=2.2.2->chromadb) (2.1.2)\n",
            "Requirement already satisfied: mpmath>=0.19 in c:\\users\\vikas\\appdata\\local\\programs\\python\\python311\\lib\\site-packages (from sympy->torch>=1.6.0->sentence-transformers>=2.2.2->chromadb) (1.3.0)\n",
            "Requirement already satisfied: openai in c:\\users\\vikas\\appdata\\local\\programs\\python\\python311\\lib\\site-packages (0.27.7)\n",
            "Requirement already satisfied: requests>=2.20 in c:\\users\\vikas\\appdata\\local\\programs\\python\\python311\\lib\\site-packages (from openai) (2.30.0)\n",
            "Requirement already satisfied: tqdm in c:\\users\\vikas\\appdata\\local\\programs\\python\\python311\\lib\\site-packages (from openai) (4.65.0)\n",
            "Requirement already satisfied: aiohttp in c:\\users\\vikas\\appdata\\local\\programs\\python\\python311\\lib\\site-packages (from openai) (3.8.4)\n",
            "Requirement already satisfied: charset-normalizer<4,>=2 in c:\\users\\vikas\\appdata\\local\\programs\\python\\python311\\lib\\site-packages (from requests>=2.20->openai) (3.1.0)\n",
            "Requirement already satisfied: idna<4,>=2.5 in c:\\users\\vikas\\appdata\\local\\programs\\python\\python311\\lib\\site-packages (from requests>=2.20->openai) (3.4)\n",
            "Requirement already satisfied: urllib3<3,>=1.21.1 in c:\\users\\vikas\\appdata\\local\\programs\\python\\python311\\lib\\site-packages (from requests>=2.20->openai) (1.26.15)\n",
            "Requirement already satisfied: certifi>=2017.4.17 in c:\\users\\vikas\\appdata\\local\\programs\\python\\python311\\lib\\site-packages (from requests>=2.20->openai) (2023.5.7)\n",
            "Requirement already satisfied: attrs>=17.3.0 in c:\\users\\vikas\\appdata\\local\\programs\\python\\python311\\lib\\site-packages (from aiohttp->openai) (23.1.0)\n",
            "Requirement already satisfied: multidict<7.0,>=4.5 in c:\\users\\vikas\\appdata\\local\\programs\\python\\python311\\lib\\site-packages (from aiohttp->openai) (6.0.4)\n",
            "Requirement already satisfied: async-timeout<5.0,>=4.0.0a3 in c:\\users\\vikas\\appdata\\local\\programs\\python\\python311\\lib\\site-packages (from aiohttp->openai) (4.0.2)\n",
            "Requirement already satisfied: yarl<2.0,>=1.0 in c:\\users\\vikas\\appdata\\local\\programs\\python\\python311\\lib\\site-packages (from aiohttp->openai) (1.9.2)\n",
            "Requirement already satisfied: frozenlist>=1.1.1 in c:\\users\\vikas\\appdata\\local\\programs\\python\\python311\\lib\\site-packages (from aiohttp->openai) (1.3.3)\n",
            "Requirement already satisfied: aiosignal>=1.1.2 in c:\\users\\vikas\\appdata\\local\\programs\\python\\python311\\lib\\site-packages (from aiohttp->openai) (1.3.1)\n",
            "Requirement already satisfied: colorama in c:\\users\\vikas\\appdata\\roaming\\python\\python311\\site-packages (from tqdm->openai) (0.4.6)\n",
            "Note: you may need to restart the kernel to use updated packages.\n",
            "Requirement already satisfied: tiktoken in c:\\users\\vikas\\appdata\\local\\programs\\python\\python311\\lib\\site-packages (0.4.0)\n",
            "Requirement already satisfied: regex>=2022.1.18 in c:\\users\\vikas\\appdata\\local\\programs\\python\\python311\\lib\\site-packages (from tiktoken) (2023.5.5)\n",
            "Requirement already satisfied: requests>=2.26.0 in c:\\users\\vikas\\appdata\\local\\programs\\python\\python311\\lib\\site-packages (from tiktoken) (2.30.0)\n",
            "Requirement already satisfied: charset-normalizer<4,>=2 in c:\\users\\vikas\\appdata\\local\\programs\\python\\python311\\lib\\site-packages (from requests>=2.26.0->tiktoken) (3.1.0)\n",
            "Requirement already satisfied: idna<4,>=2.5 in c:\\users\\vikas\\appdata\\local\\programs\\python\\python311\\lib\\site-packages (from requests>=2.26.0->tiktoken) (3.4)\n",
            "Requirement already satisfied: urllib3<3,>=1.21.1 in c:\\users\\vikas\\appdata\\local\\programs\\python\\python311\\lib\\site-packages (from requests>=2.26.0->tiktoken) (1.26.15)\n",
            "Requirement already satisfied: certifi>=2017.4.17 in c:\\users\\vikas\\appdata\\local\\programs\\python\\python311\\lib\\site-packages (from requests>=2.26.0->tiktoken) (2023.5.7)\n",
            "Note: you may need to restart the kernel to use updated packages.\n",
            "Requirement already satisfied: nltk in c:\\users\\vikas\\appdata\\local\\programs\\python\\python311\\lib\\site-packages (3.8.1)\n",
            "Requirement already satisfied: click in c:\\users\\vikas\\appdata\\local\\programs\\python\\python311\\lib\\site-packages (from nltk) (8.1.3)\n",
            "Requirement already satisfied: joblib in c:\\users\\vikas\\appdata\\local\\programs\\python\\python311\\lib\\site-packages (from nltk) (1.2.0)\n",
            "Requirement already satisfied: regex>=2021.8.3 in c:\\users\\vikas\\appdata\\local\\programs\\python\\python311\\lib\\site-packages (from nltk) (2023.5.5)\n",
            "Requirement already satisfied: tqdm in c:\\users\\vikas\\appdata\\local\\programs\\python\\python311\\lib\\site-packages (from nltk) (4.65.0)\n",
            "Requirement already satisfied: colorama in c:\\users\\vikas\\appdata\\roaming\\python\\python311\\site-packages (from click->nltk) (0.4.6)\n",
            "Note: you may need to restart the kernel to use updated packages.\n"
          ]
        }
      ],
      "source": [
        "%pip install -qU langchain\n",
        "%pip install pypdf\n",
        "%pip install chromadb\n",
        "%pip install openai\n",
        "%pip install tiktoken\n",
        "%pip install nltk\n",
        "# !pip install --upgrade nltk\n",
        "# !pip install PyPDF2"
      ]
    },
    {
      "cell_type": "code",
      "execution_count": 19,
      "metadata": {
        "id": "lBT9Bb1l2dCF"
      },
      "outputs": [],
      "source": [
        "import os\n",
        "import chromadb\n",
        "\n",
        "from langchain.document_loaders import PyPDFLoader \n",
        "from langchain.vectorstores import Chroma \n",
        "from langchain.embeddings import HuggingFaceEmbeddings, SentenceTransformerEmbeddings \n",
        "from langchain.chains import ConversationalRetrievalChain\n",
        "from langchain.memory import ConversationBufferMemory\n",
        "from langchain.llms import OpenAI\n",
        "os.environ[\"OPENAI_API_KEY\"] = 'Kindly User Your own API'\n",
        "llm = OpenAI(openai_api_key=\"OPENAI_API_KEY\")\n",
        "from sentence_transformers import SentenceTransformer\n"
      ]
    },
    {
      "cell_type": "code",
      "execution_count": 3,
      "metadata": {},
      "outputs": [],
      "source": [
        "from langchain.document_loaders import PyPDFLoader\n",
        "load=[]\n",
        "loader = PyPDFLoader(\"D:\\Research Internship\\LangChain Practise\\Final Output\\Business Project.pdf\")"
      ]
    },
    {
      "cell_type": "code",
      "execution_count": 4,
      "metadata": {},
      "outputs": [],
      "source": [
        "load.append(loader)"
      ]
    },
    {
      "cell_type": "code",
      "execution_count": 5,
      "metadata": {
        "colab": {
          "base_uri": "https://localhost:8080/"
        },
        "id": "fMVIK0344Uhu",
        "outputId": "067fe84c-10c8-4669-f49b-2507a7fa9d43"
      },
      "outputs": [
        {
          "name": "stdout",
          "output_type": "stream",
          "text": [
            "1\n"
          ]
        }
      ],
      "source": [
        "file2=PyPDFLoader(\"D:\\Research Internship\\LangChain Practise\\Final Output\\MIS.pdf\")\n",
        "load.append(file2)\n",
        "# docs = loader.load_and_split()\n",
        "# print(len(docs))\n",
        "# print(docs[2])\n",
        "\n",
        "pages = load[0].load_and_split()\n",
        "for i in range(len(load)):\n",
        "    if i == 0 : continue\n",
        "    pages += load[i].load_and_split()\n",
        "    print(i)\n",
        "    # pages.append(page)\n"
      ]
    },
    {
      "cell_type": "code",
      "execution_count": 42,
      "metadata": {},
      "outputs": [
        {
          "name": "stdout",
          "output_type": "stream",
          "text": [
            "Research\n",
            "Methodology\n",
            "(Data\n",
            "Collection\n",
            "Method,\n",
            "Sampling\n",
            "procedure,\n",
            "Questionnaire)\n",
            "D a t a\n",
            "C o l l e c t i o n\n",
            "M e t h o d :\n",
            "W e\n",
            "used\n",
            "a\n",
            "mixed-methods\n",
            "approach\n",
            "for\n",
            "data\n",
            "collection,\n",
            "which\n",
            "involved\n",
            "both\n",
            "primary\n",
            "and\n",
            "secondary\n",
            "sources.\n",
            "W e\n",
            "conducted\n",
            "physical\n",
            "visits\n",
            "to\n",
            "the\n",
            "electronics\n",
            "shop\n",
            "to\n",
            "understand\n",
            "their\n",
            "business\n",
            "model\n",
            "and\n",
            "operations.\n",
            "W e\n",
            "also\n",
            "reviewed\n",
            "relevant\n",
            "literature,\n",
            "including\n",
            "industry\n",
            "reports\n",
            "and\n",
            "academic\n",
            "papers,\n",
            "to\n",
            "gain\n",
            "a\n",
            "better\n",
            "understanding\n",
            "of\n",
            "the\n",
            "challenges\n",
            "facing\n",
            "the\n",
            "electronics\n",
            "retail\n",
            "industry .\n",
            "S a m p l i n g\n",
            "P r o c e d u r e :\n",
            "W e\n",
            "used\n",
            "a\n",
            "purposive\n",
            "sampling\n",
            "technique\n",
            "to\n",
            "select\n",
            "the\n",
            "participants\n",
            "for\n",
            "our\n",
            "study .\n",
            "W e\n",
            "included\n",
            "employees\n",
            "and\n",
            "customers\n",
            "of\n",
            "the\n",
            "electronics\n",
            "shop\n",
            "in\n",
            "our\n",
            "study .\n",
            "W e\n",
            "selected\n",
            "employees\n",
            "from\n",
            "dif ferent\n",
            "departments,\n",
            "including\n",
            "sales,\n",
            "marketing,\n",
            "and\n",
            "inventory\n",
            "management,\n",
            "to\n",
            "gain\n",
            "a\n",
            "holistic\n",
            "understanding\n",
            "of\n",
            "the\n",
            "business.\n",
            "W e\n",
            "selected\n",
            "customers\n",
            "based\n",
            "on\n",
            "their\n",
            "frequency\n",
            "of\n",
            "visits\n",
            "and\n",
            "purchases.\n",
            "Q u e s t i o n n a i r e :\n",
            "W e\n",
            "developed\n",
            "a\n",
            "Google\n",
            "form\n",
            "of\n",
            "the\n",
            "questionnaire\n",
            "based\n",
            "on\n",
            "our\n",
            "understanding\n",
            "of\n",
            "the\n",
            "business\n",
            "model\n",
            "and\n",
            "the\n",
            "research\n",
            "objectives.\n",
            "The\n",
            "questionnaire\n",
            "included\n",
            "both\n",
            "open-ended\n",
            "and\n",
            "closed-ended\n",
            "questions,\n",
            "and\n",
            "covered\n",
            "topics\n",
            "such\n",
            "as\n",
            "customer\n",
            "preferences,\n",
            "purchase\n",
            "behavior ,\n",
            "and\n",
            "product\n",
            "availability .\n",
            "The\n",
            "questionnaire\n",
            "was\n",
            "distributed\n",
            "to\n",
            "the\n",
            "selected\n",
            "participants\n",
            "via\n",
            "email\n",
            "and\n",
            "social\n",
            "media\n",
            "platforms.\n"
          ]
        }
      ],
      "source": [
        "print(pages[3].page_content)"
      ]
    },
    {
      "cell_type": "code",
      "execution_count": 14,
      "metadata": {
        "id": "Md0Y2VYM4eXi"
      },
      "outputs": [],
      "source": [
        "model = SentenceTransformer('all-MiniLM-L6-v2')"
      ]
    },
    {
      "cell_type": "code",
      "execution_count": 23,
      "metadata": {},
      "outputs": [
        {
          "name": "stdout",
          "output_type": "stream",
          "text": [
            "<class 'dict'>\n"
          ]
        }
      ],
      "source": [
        "print(type(pages[0].metadata))"
      ]
    },
    {
      "cell_type": "code",
      "execution_count": 35,
      "metadata": {},
      "outputs": [],
      "source": [
        "#Our sentences we like to encode\n",
        "# sentences = ['This framework generates embeddings for each input sentence',\n",
        "#     'Sentences are passed as a list of string.',\n",
        "#     'The quick brown fox jumps over the lazy dog.']\n",
        "sentence=''\n",
        "metadata={}\n",
        "id=[]\n",
        "for i in range(len(pages)):\n",
        "    sentence=sentence+\"\"+pages[i].page_content\n",
        "    metadata.update(pages[i].metadata)\n",
        "    id.append(\"id \"+str(i))\n",
        "#Sentences are encoded by calling model.encode()\n",
        "embeddings = model.encode(sentences)"
      ]
    },
    {
      "cell_type": "code",
      "execution_count": 36,
      "metadata": {
        "id": "orSH-1m75CUU"
      },
      "outputs": [
        {
          "name": "stdout",
          "output_type": "stream",
          "text": [
            "[[-0.01371735 -0.04285153 -0.01562862 ...  0.10017826  0.12365723\n",
            "  -0.0422967 ]\n",
            " [ 0.05645249  0.05500239  0.03137961 ...  0.06650875  0.08491522\n",
            "  -0.0332849 ]\n",
            " [ 0.04393352  0.05893442  0.04817837 ...  0.05216279  0.05610652\n",
            "   0.10206389]]\n"
          ]
        }
      ],
      "source": [
        "print(embeddings)"
      ]
    },
    {
      "cell_type": "code",
      "execution_count": 39,
      "metadata": {},
      "outputs": [
        {
          "name": "stderr",
          "output_type": "stream",
          "text": [
            "Using embedded DuckDB without persistence: data will be transient\n"
          ]
        },
        {
          "name": "stdout",
          "output_type": "stream",
          "text": [
            "<class 'numpy.ndarray'>\n"
          ]
        },
        {
          "ename": "TypeError",
          "evalue": "LocalAPI.create_collection() got an unexpected keyword argument 'embeddings'",
          "output_type": "error",
          "traceback": [
            "\u001b[1;31m---------------------------------------------------------------------------\u001b[0m",
            "\u001b[1;31mTypeError\u001b[0m                                 Traceback (most recent call last)",
            "Cell \u001b[1;32mIn[39], line 3\u001b[0m\n\u001b[0;32m      1\u001b[0m \u001b[39mprint\u001b[39m(\u001b[39mtype\u001b[39m(embeddings))\n\u001b[0;32m      2\u001b[0m client \u001b[39m=\u001b[39m chromadb\u001b[39m.\u001b[39mClient()\n\u001b[1;32m----> 3\u001b[0m collection \u001b[39m=\u001b[39m client\u001b[39m.\u001b[39;49mcreate_collection(\n\u001b[0;32m      4\u001b[0m     \u001b[39m# documents=pages;\u001b[39;49;00m\n\u001b[0;32m      5\u001b[0m     embeddings\u001b[39m=\u001b[39;49membeddings,\n\u001b[0;32m      6\u001b[0m     metadatas\u001b[39m=\u001b[39;49mmetadata,\n\u001b[0;32m      7\u001b[0m     ids\u001b[39m=\u001b[39;49m\u001b[39mid\u001b[39;49m\n\u001b[0;32m      8\u001b[0m )\n\u001b[0;32m      9\u001b[0m \u001b[39m# collection.add(\u001b[39;00m\n\u001b[0;32m     10\u001b[0m \u001b[39m#     embeddings=[[1.1, 2.3, 3.2], [4.5, 6.9, 4.4], [1.1, 2.3, 3.2], ...\u001b[39;00m\n\u001b[0;32m     11\u001b[0m \u001b[39m#     metadatas=[{\"chapter\": \"3\", \"verse\": \"16\"}, {\"chapter\": \"3\", \"verse\": \"5\"}, {\"chapter\": \"29\", \"verse\": \"11\"}, ...],\u001b[39;00m\n\u001b[0;32m     12\u001b[0m \u001b[39m#     ids=[\"id1\", \"id2\", \"id3\", ...]\u001b[39;00m\n\u001b[0;32m     13\u001b[0m \u001b[39m# )\u001b[39;00m\n",
            "\u001b[1;31mTypeError\u001b[0m: LocalAPI.create_collection() got an unexpected keyword argument 'embeddings'"
          ]
        }
      ],
      "source": [
        "print(type(embeddings))\n",
        "client = chromadb.Client()\n",
        "collection = client.create_collection(\n",
        "    # documents=pages;\n",
        "    embeddings=embeddings,\n",
        "    metadatas=metadata,\n",
        "    ids=id\n",
        ")\n",
        "# collection.add(\n",
        "#     embeddings=[[1.1, 2.3, 3.2], [4.5, 6.9, 4.4], [1.1, 2.3, 3.2], ...\n",
        "#     metadatas=[{\"chapter\": \"3\", \"verse\": \"16\"}, {\"chapter\": \"3\", \"verse\": \"5\"}, {\"chapter\": \"29\", \"verse\": \"11\"}, ...],\n",
        "#     ids=[\"id1\", \"id2\", \"id3\", ...]\n",
        "# )"
      ]
    },
    {
      "cell_type": "code",
      "execution_count": 17,
      "metadata": {},
      "outputs": [
        {
          "name": "stderr",
          "output_type": "stream",
          "text": [
            "Using embedded DuckDB with persistence: data will be stored in: .\n"
          ]
        },
        {
          "ename": "AttributeError",
          "evalue": "'numpy.ndarray' object has no attribute 'embed_documents'",
          "output_type": "error",
          "traceback": [
            "\u001b[1;31m---------------------------------------------------------------------------\u001b[0m",
            "\u001b[1;31mAttributeError\u001b[0m                            Traceback (most recent call last)",
            "Cell \u001b[1;32mIn[17], line 1\u001b[0m\n\u001b[1;32m----> 1\u001b[0m vectordb \u001b[39m=\u001b[39m Chroma\u001b[39m.\u001b[39;49mfrom_documents(pages, embedding \u001b[39m=\u001b[39;49m embeddings, persist_directory\u001b[39m=\u001b[39;49m\u001b[39m\"\u001b[39;49m\u001b[39m.\u001b[39;49m\u001b[39m\"\u001b[39;49m)\n",
            "File \u001b[1;32mc:\\Users\\vikas\\AppData\\Local\\Programs\\Python\\Python311\\Lib\\site-packages\\langchain\\vectorstores\\chroma.py:422\u001b[0m, in \u001b[0;36mChroma.from_documents\u001b[1;34m(cls, documents, embedding, ids, collection_name, persist_directory, client_settings, client, **kwargs)\u001b[0m\n\u001b[0;32m    420\u001b[0m texts \u001b[39m=\u001b[39m [doc\u001b[39m.\u001b[39mpage_content \u001b[39mfor\u001b[39;00m doc \u001b[39min\u001b[39;00m documents]\n\u001b[0;32m    421\u001b[0m metadatas \u001b[39m=\u001b[39m [doc\u001b[39m.\u001b[39mmetadata \u001b[39mfor\u001b[39;00m doc \u001b[39min\u001b[39;00m documents]\n\u001b[1;32m--> 422\u001b[0m \u001b[39mreturn\u001b[39;00m \u001b[39mcls\u001b[39;49m\u001b[39m.\u001b[39;49mfrom_texts(\n\u001b[0;32m    423\u001b[0m     texts\u001b[39m=\u001b[39;49mtexts,\n\u001b[0;32m    424\u001b[0m     embedding\u001b[39m=\u001b[39;49membedding,\n\u001b[0;32m    425\u001b[0m     metadatas\u001b[39m=\u001b[39;49mmetadatas,\n\u001b[0;32m    426\u001b[0m     ids\u001b[39m=\u001b[39;49mids,\n\u001b[0;32m    427\u001b[0m     collection_name\u001b[39m=\u001b[39;49mcollection_name,\n\u001b[0;32m    428\u001b[0m     persist_directory\u001b[39m=\u001b[39;49mpersist_directory,\n\u001b[0;32m    429\u001b[0m     client_settings\u001b[39m=\u001b[39;49mclient_settings,\n\u001b[0;32m    430\u001b[0m     client\u001b[39m=\u001b[39;49mclient,\n\u001b[0;32m    431\u001b[0m )\n",
            "File \u001b[1;32mc:\\Users\\vikas\\AppData\\Local\\Programs\\Python\\Python311\\Lib\\site-packages\\langchain\\vectorstores\\chroma.py:383\u001b[0m, in \u001b[0;36mChroma.from_texts\u001b[1;34m(cls, texts, embedding, metadatas, ids, collection_name, persist_directory, client_settings, client, **kwargs)\u001b[0m\n\u001b[0;32m    353\u001b[0m \u001b[39m@classmethod\u001b[39m\n\u001b[0;32m    354\u001b[0m \u001b[39mdef\u001b[39;00m \u001b[39mfrom_texts\u001b[39m(\n\u001b[0;32m    355\u001b[0m     \u001b[39mcls\u001b[39m: Type[Chroma],\n\u001b[1;32m   (...)\u001b[0m\n\u001b[0;32m    364\u001b[0m     \u001b[39m*\u001b[39m\u001b[39m*\u001b[39mkwargs: Any,\n\u001b[0;32m    365\u001b[0m ) \u001b[39m-\u001b[39m\u001b[39m>\u001b[39m Chroma:\n\u001b[0;32m    366\u001b[0m \u001b[39m    \u001b[39m\u001b[39m\"\"\"Create a Chroma vectorstore from a raw documents.\u001b[39;00m\n\u001b[0;32m    367\u001b[0m \n\u001b[0;32m    368\u001b[0m \u001b[39m    If a persist_directory is specified, the collection will be persisted there.\u001b[39;00m\n\u001b[1;32m   (...)\u001b[0m\n\u001b[0;32m    381\u001b[0m \u001b[39m        Chroma: Chroma vectorstore.\u001b[39;00m\n\u001b[0;32m    382\u001b[0m \u001b[39m    \"\"\"\u001b[39;00m\n\u001b[1;32m--> 383\u001b[0m     chroma_collection \u001b[39m=\u001b[39m \u001b[39mcls\u001b[39;49m(\n\u001b[0;32m    384\u001b[0m         collection_name\u001b[39m=\u001b[39;49mcollection_name,\n\u001b[0;32m    385\u001b[0m         embedding_function\u001b[39m=\u001b[39;49membedding,\n\u001b[0;32m    386\u001b[0m         persist_directory\u001b[39m=\u001b[39;49mpersist_directory,\n\u001b[0;32m    387\u001b[0m         client_settings\u001b[39m=\u001b[39;49mclient_settings,\n\u001b[0;32m    388\u001b[0m         client\u001b[39m=\u001b[39;49mclient,\n\u001b[0;32m    389\u001b[0m     )\n\u001b[0;32m    390\u001b[0m     chroma_collection\u001b[39m.\u001b[39madd_texts(texts\u001b[39m=\u001b[39mtexts, metadatas\u001b[39m=\u001b[39mmetadatas, ids\u001b[39m=\u001b[39mids)\n\u001b[0;32m    391\u001b[0m     \u001b[39mreturn\u001b[39;00m chroma_collection\n",
            "File \u001b[1;32mc:\\Users\\vikas\\AppData\\Local\\Programs\\Python\\Python311\\Lib\\site-packages\\langchain\\vectorstores\\chroma.py:95\u001b[0m, in \u001b[0;36mChroma.__init__\u001b[1;34m(self, collection_name, embedding_function, persist_directory, client_settings, collection_metadata, client)\u001b[0m\n\u001b[0;32m     91\u001b[0m \u001b[39mself\u001b[39m\u001b[39m.\u001b[39m_embedding_function \u001b[39m=\u001b[39m embedding_function\n\u001b[0;32m     92\u001b[0m \u001b[39mself\u001b[39m\u001b[39m.\u001b[39m_persist_directory \u001b[39m=\u001b[39m persist_directory\n\u001b[0;32m     93\u001b[0m \u001b[39mself\u001b[39m\u001b[39m.\u001b[39m_collection \u001b[39m=\u001b[39m \u001b[39mself\u001b[39m\u001b[39m.\u001b[39m_client\u001b[39m.\u001b[39mget_or_create_collection(\n\u001b[0;32m     94\u001b[0m     name\u001b[39m=\u001b[39mcollection_name,\n\u001b[1;32m---> 95\u001b[0m     embedding_function\u001b[39m=\u001b[39m\u001b[39mself\u001b[39;49m\u001b[39m.\u001b[39;49m_embedding_function\u001b[39m.\u001b[39;49membed_documents\n\u001b[0;32m     96\u001b[0m     \u001b[39mif\u001b[39;00m \u001b[39mself\u001b[39m\u001b[39m.\u001b[39m_embedding_function \u001b[39mis\u001b[39;00m \u001b[39mnot\u001b[39;00m \u001b[39mNone\u001b[39;00m\n\u001b[0;32m     97\u001b[0m     \u001b[39melse\u001b[39;00m \u001b[39mNone\u001b[39;00m,\n\u001b[0;32m     98\u001b[0m     metadata\u001b[39m=\u001b[39mcollection_metadata,\n\u001b[0;32m     99\u001b[0m )\n",
            "\u001b[1;31mAttributeError\u001b[0m: 'numpy.ndarray' object has no attribute 'embed_documents'"
          ]
        }
      ],
      "source": [
        "vectordb = Chroma.from_documents(pages, embedding = embeddings, persist_directory=\".\")"
      ]
    },
    {
      "cell_type": "code",
      "execution_count": null,
      "metadata": {
        "id": "QPVvzkUE6yCB"
      },
      "outputs": [],
      "source": [
        "memory = ConversationBufferMemory(memory_key=\"chat_history\", return_messages=True)\n",
        "pdf_qa = ConversationalRetrievalChain.from_llm(OpenAI(temperature=0.9) , vectordb.as_retriever(), memory=memory)"
      ]
    },
    {
      "cell_type": "code",
      "execution_count": null,
      "metadata": {
        "colab": {
          "base_uri": "https://localhost:8080/",
          "height": 70
        },
        "id": "p6-B6rxV63FT",
        "outputId": "c58bbe4a-816a-4472-d9ae-9d46a017efb4"
      },
      "outputs": [],
      "source": [
        "query = \"What is Research problem statmenet\"\n",
        "result = pdf_qa({\"question\": query})\n",
        "print(\"Answer:\")\n",
        "result[\"answer\"]"
      ]
    },
    {
      "cell_type": "code",
      "execution_count": null,
      "metadata": {
        "id": "IJW3u4_Y7AHJ"
      },
      "outputs": [],
      "source": [
        "query2 = \"How is Questionnaire develped\"\n",
        "result = pdf_qa({\"question\": query2})\n",
        "print(\"Answer:\")\n",
        "result[\"answer\"]"
      ]
    },
    {
      "cell_type": "code",
      "execution_count": null,
      "metadata": {},
      "outputs": [],
      "source": [
        "query3 = \"What is information as a resource\"\n",
        "result = pdf_qa({\"question\": query3})\n",
        "print(\"Answer:\")\n",
        "result[\"answer\"]"
      ]
    },
    {
      "cell_type": "code",
      "execution_count": null,
      "metadata": {},
      "outputs": [],
      "source": []
    }
  ],
  "metadata": {
    "colab": {
      "provenance": []
    },
    "kernelspec": {
      "display_name": "Python 3",
      "name": "python3"
    },
    "language_info": {
      "codemirror_mode": {
        "name": "ipython",
        "version": 3
      },
      "file_extension": ".py",
      "mimetype": "text/x-python",
      "name": "python",
      "nbconvert_exporter": "python",
      "pygments_lexer": "ipython3",
      "version": "3.11.3"
    }
  },
  "nbformat": 4,
  "nbformat_minor": 0
}
