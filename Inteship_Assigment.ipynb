{
  "cells": [
    {
      "cell_type": "code",
      "execution_count": 1,
      "metadata": {
        "colab": {
          "base_uri": "https://localhost:8080/"
        },
        "id": "I2tg28f12YwI",
        "outputId": "7592d562-66a0-4ada-a0ae-93b489f0c8e6"
      },
      "outputs": [
        {
          "name": "stdout",
          "output_type": "stream",
          "text": [
            "Requirement already satisfied: pypdf in c:\\users\\vikas\\appdata\\local\\programs\\python\\python311\\lib\\site-packages (3.9.0)\n",
            "Requirement already satisfied: chromadb in c:\\users\\vikas\\appdata\\local\\programs\\python\\python311\\lib\\site-packages (0.3.23)\n",
            "Requirement already satisfied: pandas>=1.3 in c:\\users\\vikas\\appdata\\local\\programs\\python\\python311\\lib\\site-packages (from chromadb) (2.0.1)\n",
            "Requirement already satisfied: requests>=2.28 in c:\\users\\vikas\\appdata\\local\\programs\\python\\python311\\lib\\site-packages (from chromadb) (2.30.0)\n",
            "Requirement already satisfied: pydantic>=1.9 in c:\\users\\vikas\\appdata\\local\\programs\\python\\python311\\lib\\site-packages (from chromadb) (1.10.7)\n",
            "Requirement already satisfied: hnswlib>=0.7 in c:\\users\\vikas\\appdata\\local\\programs\\python\\python311\\lib\\site-packages (from chromadb) (0.7.0)\n",
            "Requirement already satisfied: clickhouse-connect>=0.5.7 in c:\\users\\vikas\\appdata\\local\\programs\\python\\python311\\lib\\site-packages (from chromadb) (0.5.24)\n",
            "Requirement already satisfied: sentence-transformers>=2.2.2 in c:\\users\\vikas\\appdata\\local\\programs\\python\\python311\\lib\\site-packages (from chromadb) (2.2.2)\n",
            "Requirement already satisfied: duckdb>=0.7.1 in c:\\users\\vikas\\appdata\\local\\programs\\python\\python311\\lib\\site-packages (from chromadb) (0.8.0)\n",
            "Requirement already satisfied: fastapi>=0.85.1 in c:\\users\\vikas\\appdata\\local\\programs\\python\\python311\\lib\\site-packages (from chromadb) (0.95.2)\n",
            "Requirement already satisfied: uvicorn[standard]>=0.18.3 in c:\\users\\vikas\\appdata\\local\\programs\\python\\python311\\lib\\site-packages (from chromadb) (0.22.0)\n",
            "Requirement already satisfied: numpy>=1.21.6 in c:\\users\\vikas\\appdata\\local\\programs\\python\\python311\\lib\\site-packages (from chromadb) (1.23.5)\n",
            "Requirement already satisfied: posthog>=2.4.0 in c:\\users\\vikas\\appdata\\local\\programs\\python\\python311\\lib\\site-packages (from chromadb) (3.0.1)\n",
            "Requirement already satisfied: typing-extensions>=4.5.0 in c:\\users\\vikas\\appdata\\local\\programs\\python\\python311\\lib\\site-packages (from chromadb) (4.5.0)\n",
            "Requirement already satisfied: certifi in c:\\users\\vikas\\appdata\\local\\programs\\python\\python311\\lib\\site-packages (from clickhouse-connect>=0.5.7->chromadb) (2023.5.7)\n",
            "Requirement already satisfied: urllib3>=1.26 in c:\\users\\vikas\\appdata\\local\\programs\\python\\python311\\lib\\site-packages (from clickhouse-connect>=0.5.7->chromadb) (1.26.15)\n",
            "Requirement already satisfied: pytz in c:\\users\\vikas\\appdata\\local\\programs\\python\\python311\\lib\\site-packages (from clickhouse-connect>=0.5.7->chromadb) (2023.3)\n",
            "Requirement already satisfied: zstandard in c:\\users\\vikas\\appdata\\local\\programs\\python\\python311\\lib\\site-packages (from clickhouse-connect>=0.5.7->chromadb) (0.21.0)\n",
            "Requirement already satisfied: lz4 in c:\\users\\vikas\\appdata\\local\\programs\\python\\python311\\lib\\site-packages (from clickhouse-connect>=0.5.7->chromadb) (4.3.2)\n",
            "Requirement already satisfied: starlette<0.28.0,>=0.27.0 in c:\\users\\vikas\\appdata\\local\\programs\\python\\python311\\lib\\site-packages (from fastapi>=0.85.1->chromadb) (0.27.0)\n",
            "Requirement already satisfied: python-dateutil>=2.8.2 in c:\\users\\vikas\\appdata\\roaming\\python\\python311\\site-packages (from pandas>=1.3->chromadb) (2.8.2)\n",
            "Requirement already satisfied: tzdata>=2022.1 in c:\\users\\vikas\\appdata\\local\\programs\\python\\python311\\lib\\site-packages (from pandas>=1.3->chromadb) (2023.3)\n",
            "Requirement already satisfied: six>=1.5 in c:\\users\\vikas\\appdata\\roaming\\python\\python311\\site-packages (from posthog>=2.4.0->chromadb) (1.16.0)\n",
            "Requirement already satisfied: monotonic>=1.5 in c:\\users\\vikas\\appdata\\local\\programs\\python\\python311\\lib\\site-packages (from posthog>=2.4.0->chromadb) (1.6)\n",
            "Requirement already satisfied: backoff>=1.10.0 in c:\\users\\vikas\\appdata\\local\\programs\\python\\python311\\lib\\site-packages (from posthog>=2.4.0->chromadb) (2.2.1)\n",
            "Requirement already satisfied: charset-normalizer<4,>=2 in c:\\users\\vikas\\appdata\\local\\programs\\python\\python311\\lib\\site-packages (from requests>=2.28->chromadb) (3.1.0)\n",
            "Requirement already satisfied: idna<4,>=2.5 in c:\\users\\vikas\\appdata\\local\\programs\\python\\python311\\lib\\site-packages (from requests>=2.28->chromadb) (3.4)\n",
            "Requirement already satisfied: transformers<5.0.0,>=4.6.0 in c:\\users\\vikas\\appdata\\local\\programs\\python\\python311\\lib\\site-packages (from sentence-transformers>=2.2.2->chromadb) (4.29.2)\n",
            "Requirement already satisfied: tqdm in c:\\users\\vikas\\appdata\\local\\programs\\python\\python311\\lib\\site-packages (from sentence-transformers>=2.2.2->chromadb) (4.65.0)\n",
            "Requirement already satisfied: torch>=1.6.0 in c:\\users\\vikas\\appdata\\local\\programs\\python\\python311\\lib\\site-packages (from sentence-transformers>=2.2.2->chromadb) (2.0.1)\n",
            "Requirement already satisfied: torchvision in c:\\users\\vikas\\appdata\\local\\programs\\python\\python311\\lib\\site-packages (from sentence-transformers>=2.2.2->chromadb) (0.15.2)\n",
            "Requirement already satisfied: scikit-learn in c:\\users\\vikas\\appdata\\local\\programs\\python\\python311\\lib\\site-packages (from sentence-transformers>=2.2.2->chromadb) (1.2.2)\n",
            "Requirement already satisfied: scipy in c:\\users\\vikas\\appdata\\local\\programs\\python\\python311\\lib\\site-packages (from sentence-transformers>=2.2.2->chromadb) (1.10.1)\n",
            "Requirement already satisfied: nltk in c:\\users\\vikas\\appdata\\local\\programs\\python\\python311\\lib\\site-packages (from sentence-transformers>=2.2.2->chromadb) (3.8.1)\n",
            "Requirement already satisfied: sentencepiece in c:\\users\\vikas\\appdata\\local\\programs\\python\\python311\\lib\\site-packages (from sentence-transformers>=2.2.2->chromadb) (0.1.99)\n",
            "Requirement already satisfied: huggingface-hub>=0.4.0 in c:\\users\\vikas\\appdata\\local\\programs\\python\\python311\\lib\\site-packages (from sentence-transformers>=2.2.2->chromadb) (0.14.1)\n",
            "Requirement already satisfied: click>=7.0 in c:\\users\\vikas\\appdata\\local\\programs\\python\\python311\\lib\\site-packages (from uvicorn[standard]>=0.18.3->chromadb) (8.1.3)\n",
            "Requirement already satisfied: h11>=0.8 in c:\\users\\vikas\\appdata\\local\\programs\\python\\python311\\lib\\site-packages (from uvicorn[standard]>=0.18.3->chromadb) (0.14.0)\n",
            "Requirement already satisfied: colorama>=0.4 in c:\\users\\vikas\\appdata\\roaming\\python\\python311\\site-packages (from uvicorn[standard]>=0.18.3->chromadb) (0.4.6)\n",
            "Requirement already satisfied: httptools>=0.5.0 in c:\\users\\vikas\\appdata\\local\\programs\\python\\python311\\lib\\site-packages (from uvicorn[standard]>=0.18.3->chromadb) (0.5.0)\n",
            "Requirement already satisfied: python-dotenv>=0.13 in c:\\users\\vikas\\appdata\\local\\programs\\python\\python311\\lib\\site-packages (from uvicorn[standard]>=0.18.3->chromadb) (1.0.0)\n",
            "Requirement already satisfied: pyyaml>=5.1 in c:\\users\\vikas\\appdata\\local\\programs\\python\\python311\\lib\\site-packages (from uvicorn[standard]>=0.18.3->chromadb) (6.0)\n",
            "Requirement already satisfied: watchfiles>=0.13 in c:\\users\\vikas\\appdata\\local\\programs\\python\\python311\\lib\\site-packages (from uvicorn[standard]>=0.18.3->chromadb) (0.19.0)\n",
            "Requirement already satisfied: websockets>=10.4 in c:\\users\\vikas\\appdata\\local\\programs\\python\\python311\\lib\\site-packages (from uvicorn[standard]>=0.18.3->chromadb) (11.0.3)\n",
            "Requirement already satisfied: filelock in c:\\users\\vikas\\appdata\\local\\programs\\python\\python311\\lib\\site-packages (from huggingface-hub>=0.4.0->sentence-transformers>=2.2.2->chromadb) (3.11.0)\n",
            "Requirement already satisfied: fsspec in c:\\users\\vikas\\appdata\\local\\programs\\python\\python311\\lib\\site-packages (from huggingface-hub>=0.4.0->sentence-transformers>=2.2.2->chromadb) (2023.5.0)\n",
            "Requirement already satisfied: packaging>=20.9 in c:\\users\\vikas\\appdata\\roaming\\python\\python311\\site-packages (from huggingface-hub>=0.4.0->sentence-transformers>=2.2.2->chromadb) (23.1)\n",
            "Requirement already satisfied: anyio<5,>=3.4.0 in c:\\users\\vikas\\appdata\\local\\programs\\python\\python311\\lib\\site-packages (from starlette<0.28.0,>=0.27.0->fastapi>=0.85.1->chromadb) (3.6.2)\n",
            "Requirement already satisfied: sympy in c:\\users\\vikas\\appdata\\local\\programs\\python\\python311\\lib\\site-packages (from torch>=1.6.0->sentence-transformers>=2.2.2->chromadb) (1.11.1)\n",
            "Requirement already satisfied: networkx in c:\\users\\vikas\\appdata\\local\\programs\\python\\python311\\lib\\site-packages (from torch>=1.6.0->sentence-transformers>=2.2.2->chromadb) (3.1)\n",
            "Requirement already satisfied: jinja2 in c:\\users\\vikas\\appdata\\local\\programs\\python\\python311\\lib\\site-packages (from torch>=1.6.0->sentence-transformers>=2.2.2->chromadb) (3.1.2)\n",
            "Requirement already satisfied: regex!=2019.12.17 in c:\\users\\vikas\\appdata\\local\\programs\\python\\python311\\lib\\site-packages (from transformers<5.0.0,>=4.6.0->sentence-transformers>=2.2.2->chromadb) (2023.5.5)\n",
            "Requirement already satisfied: tokenizers!=0.11.3,<0.14,>=0.11.1 in c:\\users\\vikas\\appdata\\local\\programs\\python\\python311\\lib\\site-packages (from transformers<5.0.0,>=4.6.0->sentence-transformers>=2.2.2->chromadb) (0.13.3)\n",
            "Requirement already satisfied: joblib in c:\\users\\vikas\\appdata\\local\\programs\\python\\python311\\lib\\site-packages (from nltk->sentence-transformers>=2.2.2->chromadb) (1.2.0)\n",
            "Requirement already satisfied: threadpoolctl>=2.0.0 in c:\\users\\vikas\\appdata\\local\\programs\\python\\python311\\lib\\site-packages (from scikit-learn->sentence-transformers>=2.2.2->chromadb) (3.1.0)\n",
            "Requirement already satisfied: pillow!=8.3.*,>=5.3.0 in c:\\users\\vikas\\appdata\\local\\programs\\python\\python311\\lib\\site-packages (from torchvision->sentence-transformers>=2.2.2->chromadb) (9.5.0)\n",
            "Requirement already satisfied: sniffio>=1.1 in c:\\users\\vikas\\appdata\\local\\programs\\python\\python311\\lib\\site-packages (from anyio<5,>=3.4.0->starlette<0.28.0,>=0.27.0->fastapi>=0.85.1->chromadb) (1.3.0)\n",
            "Requirement already satisfied: MarkupSafe>=2.0 in c:\\users\\vikas\\appdata\\local\\programs\\python\\python311\\lib\\site-packages (from jinja2->torch>=1.6.0->sentence-transformers>=2.2.2->chromadb) (2.1.2)\n",
            "Requirement already satisfied: mpmath>=0.19 in c:\\users\\vikas\\appdata\\local\\programs\\python\\python311\\lib\\site-packages (from sympy->torch>=1.6.0->sentence-transformers>=2.2.2->chromadb) (1.3.0)\n",
            "Requirement already satisfied: openai in c:\\users\\vikas\\appdata\\local\\programs\\python\\python311\\lib\\site-packages (0.27.7)\n",
            "Requirement already satisfied: requests>=2.20 in c:\\users\\vikas\\appdata\\local\\programs\\python\\python311\\lib\\site-packages (from openai) (2.30.0)\n",
            "Requirement already satisfied: tqdm in c:\\users\\vikas\\appdata\\local\\programs\\python\\python311\\lib\\site-packages (from openai) (4.65.0)\n",
            "Requirement already satisfied: aiohttp in c:\\users\\vikas\\appdata\\local\\programs\\python\\python311\\lib\\site-packages (from openai) (3.8.4)\n",
            "Requirement already satisfied: charset-normalizer<4,>=2 in c:\\users\\vikas\\appdata\\local\\programs\\python\\python311\\lib\\site-packages (from requests>=2.20->openai) (3.1.0)\n",
            "Requirement already satisfied: idna<4,>=2.5 in c:\\users\\vikas\\appdata\\local\\programs\\python\\python311\\lib\\site-packages (from requests>=2.20->openai) (3.4)\n",
            "Requirement already satisfied: urllib3<3,>=1.21.1 in c:\\users\\vikas\\appdata\\local\\programs\\python\\python311\\lib\\site-packages (from requests>=2.20->openai) (1.26.15)\n",
            "Requirement already satisfied: certifi>=2017.4.17 in c:\\users\\vikas\\appdata\\local\\programs\\python\\python311\\lib\\site-packages (from requests>=2.20->openai) (2023.5.7)\n",
            "Requirement already satisfied: attrs>=17.3.0 in c:\\users\\vikas\\appdata\\local\\programs\\python\\python311\\lib\\site-packages (from aiohttp->openai) (23.1.0)\n",
            "Requirement already satisfied: multidict<7.0,>=4.5 in c:\\users\\vikas\\appdata\\local\\programs\\python\\python311\\lib\\site-packages (from aiohttp->openai) (6.0.4)\n",
            "Requirement already satisfied: async-timeout<5.0,>=4.0.0a3 in c:\\users\\vikas\\appdata\\local\\programs\\python\\python311\\lib\\site-packages (from aiohttp->openai) (4.0.2)\n",
            "Requirement already satisfied: yarl<2.0,>=1.0 in c:\\users\\vikas\\appdata\\local\\programs\\python\\python311\\lib\\site-packages (from aiohttp->openai) (1.9.2)\n",
            "Requirement already satisfied: frozenlist>=1.1.1 in c:\\users\\vikas\\appdata\\local\\programs\\python\\python311\\lib\\site-packages (from aiohttp->openai) (1.3.3)\n",
            "Requirement already satisfied: aiosignal>=1.1.2 in c:\\users\\vikas\\appdata\\local\\programs\\python\\python311\\lib\\site-packages (from aiohttp->openai) (1.3.1)\n",
            "Requirement already satisfied: colorama in c:\\users\\vikas\\appdata\\roaming\\python\\python311\\site-packages (from tqdm->openai) (0.4.6)\n",
            "Requirement already satisfied: tiktoken in c:\\users\\vikas\\appdata\\local\\programs\\python\\python311\\lib\\site-packages (0.4.0)\n",
            "Requirement already satisfied: regex>=2022.1.18 in c:\\users\\vikas\\appdata\\local\\programs\\python\\python311\\lib\\site-packages (from tiktoken) (2023.5.5)\n",
            "Requirement already satisfied: requests>=2.26.0 in c:\\users\\vikas\\appdata\\local\\programs\\python\\python311\\lib\\site-packages (from tiktoken) (2.30.0)\n",
            "Requirement already satisfied: charset-normalizer<4,>=2 in c:\\users\\vikas\\appdata\\local\\programs\\python\\python311\\lib\\site-packages (from requests>=2.26.0->tiktoken) (3.1.0)\n",
            "Requirement already satisfied: idna<4,>=2.5 in c:\\users\\vikas\\appdata\\local\\programs\\python\\python311\\lib\\site-packages (from requests>=2.26.0->tiktoken) (3.4)\n",
            "Requirement already satisfied: urllib3<3,>=1.21.1 in c:\\users\\vikas\\appdata\\local\\programs\\python\\python311\\lib\\site-packages (from requests>=2.26.0->tiktoken) (1.26.15)\n",
            "Requirement already satisfied: certifi>=2017.4.17 in c:\\users\\vikas\\appdata\\local\\programs\\python\\python311\\lib\\site-packages (from requests>=2.26.0->tiktoken) (2023.5.7)\n",
            "Requirement already satisfied: nltk in c:\\users\\vikas\\appdata\\local\\programs\\python\\python311\\lib\\site-packages (3.8.1)\n",
            "Requirement already satisfied: click in c:\\users\\vikas\\appdata\\local\\programs\\python\\python311\\lib\\site-packages (from nltk) (8.1.3)\n",
            "Requirement already satisfied: joblib in c:\\users\\vikas\\appdata\\local\\programs\\python\\python311\\lib\\site-packages (from nltk) (1.2.0)\n",
            "Requirement already satisfied: regex>=2021.8.3 in c:\\users\\vikas\\appdata\\local\\programs\\python\\python311\\lib\\site-packages (from nltk) (2023.5.5)\n",
            "Requirement already satisfied: tqdm in c:\\users\\vikas\\appdata\\local\\programs\\python\\python311\\lib\\site-packages (from nltk) (4.65.0)\n",
            "Requirement already satisfied: colorama in c:\\users\\vikas\\appdata\\roaming\\python\\python311\\site-packages (from click->nltk) (0.4.6)\n",
            "Requirement already satisfied: nltk in c:\\users\\vikas\\appdata\\local\\programs\\python\\python311\\lib\\site-packages (3.8.1)\n",
            "Requirement already satisfied: click in c:\\users\\vikas\\appdata\\local\\programs\\python\\python311\\lib\\site-packages (from nltk) (8.1.3)\n",
            "Requirement already satisfied: joblib in c:\\users\\vikas\\appdata\\local\\programs\\python\\python311\\lib\\site-packages (from nltk) (1.2.0)\n",
            "Requirement already satisfied: regex>=2021.8.3 in c:\\users\\vikas\\appdata\\local\\programs\\python\\python311\\lib\\site-packages (from nltk) (2023.5.5)\n",
            "Requirement already satisfied: tqdm in c:\\users\\vikas\\appdata\\local\\programs\\python\\python311\\lib\\site-packages (from nltk) (4.65.0)\n",
            "Requirement already satisfied: colorama in c:\\users\\vikas\\appdata\\roaming\\python\\python311\\site-packages (from click->nltk) (0.4.6)\n"
          ]
        }
      ],
      "source": [
        "!pip install -qU langchain\n",
        "!pip install pypdf\n",
        "!pip install chromadb\n",
        "!pip install openai\n",
        "!pip install tiktoken\n",
        "!pip install nltk\n",
        "!pip install --upgrade nltk"
      ]
    },
    {
      "cell_type": "code",
      "execution_count": 2,
      "metadata": {
        "id": "lBT9Bb1l2dCF"
      },
      "outputs": [],
      "source": [
        "import os\n",
        "import getpass\n",
        "from langchain.document_loaders import PyPDFLoader \n",
        "from langchain.embeddings import OpenAIEmbeddings \n",
        "from langchain.vectorstores import Chroma \n",
        "from langchain.chains import ConversationalRetrievalChain\n",
        "from langchain.memory import ConversationBufferMemory\n",
        "from langchain.llms import OpenAI\n",
        "os.environ[\"OPENAI_API_KEY\"] = 'Kindly User Your own API'\n",
        "from langchain.llms import OpenAI\n",
        "llm = OpenAI(openai_api_key=\"OPENAI_API_KEY\")"
      ]
    },
    {
      "cell_type": "code",
      "execution_count": 3,
      "metadata": {},
      "outputs": [],
      "source": [
        "from langchain.document_loaders import PyPDFLoader\n",
        "load=[]\n",
        "loader = PyPDFLoader(\"D:\\Research Internship\\LangChain Practise\\Final Output\\Business Project.pdf\")"
      ]
    },
    {
      "cell_type": "code",
      "execution_count": 4,
      "metadata": {},
      "outputs": [],
      "source": [
        "load.append(loader)"
      ]
    },
    {
      "cell_type": "code",
      "execution_count": 5,
      "metadata": {
        "colab": {
          "base_uri": "https://localhost:8080/"
        },
        "id": "fMVIK0344Uhu",
        "outputId": "067fe84c-10c8-4669-f49b-2507a7fa9d43"
      },
      "outputs": [
        {
          "name": "stdout",
          "output_type": "stream",
          "text": [
            "1\n"
          ]
        }
      ],
      "source": [
        "file2=PyPDFLoader(\"D:\\Research Internship\\LangChain Practise\\Final Output\\MIS.pdf\")\n",
        "load.append(file2)\n",
        "# docs = loader.load_and_split()\n",
        "# print(len(docs))\n",
        "# print(docs[2])\n",
        "\n",
        "pages = load[0].load_and_split()\n",
        "for i in range(len(load)):\n",
        "    if i == 0 : continue\n",
        "    pages += load[i].load_and_split()\n",
        "    print(i)\n",
        "    # pages.append(page)\n"
      ]
    },
    {
      "cell_type": "code",
      "execution_count": 6,
      "metadata": {},
      "outputs": [
        {
          "name": "stdout",
          "output_type": "stream",
          "text": [
            "<langchain.document_loaders.pdf.PyPDFLoader object at 0x00000207089EEE50>\n"
          ]
        }
      ],
      "source": [
        "print(load[1])"
      ]
    },
    {
      "cell_type": "code",
      "execution_count": 7,
      "metadata": {
        "id": "Md0Y2VYM4eXi"
      },
      "outputs": [
        {
          "name": "stderr",
          "output_type": "stream",
          "text": [
            "Using embedded DuckDB with persistence: data will be stored in: .\n"
          ]
        }
      ],
      "source": [
        "# page=docs\n",
        "embeddings = OpenAIEmbeddings()\n",
        "vectordb = Chroma.from_documents(pages, embedding = embeddings, persist_directory=\".\")"
      ]
    },
    {
      "cell_type": "code",
      "execution_count": 8,
      "metadata": {
        "id": "orSH-1m75CUU"
      },
      "outputs": [],
      "source": [
        "vectordb.persist()"
      ]
    },
    {
      "cell_type": "code",
      "execution_count": 9,
      "metadata": {
        "id": "QPVvzkUE6yCB"
      },
      "outputs": [],
      "source": [
        "memory = ConversationBufferMemory(memory_key=\"chat_history\", return_messages=True)\n",
        "pdf_qa = ConversationalRetrievalChain.from_llm(OpenAI(temperature=0.9) , vectordb.as_retriever(), memory=memory)"
      ]
    },
    {
      "cell_type": "code",
      "execution_count": 10,
      "metadata": {
        "colab": {
          "base_uri": "https://localhost:8080/",
          "height": 70
        },
        "id": "p6-B6rxV63FT",
        "outputId": "c58bbe4a-816a-4472-d9ae-9d46a017efb4"
      },
      "outputs": [
        {
          "name": "stdout",
          "output_type": "stream",
          "text": [
            "Answer:\n"
          ]
        },
        {
          "data": {
            "text/plain": [
              "' The research problem is to identify the factors contributing to low sales across all ranges of products, and to develop strategies to increase sales and optimize stock to minimize losses and ensure that products are always available when customers need them.'"
            ]
          },
          "execution_count": 10,
          "metadata": {},
          "output_type": "execute_result"
        }
      ],
      "source": [
        "query = \"What is Research problem statmenet\"\n",
        "result = pdf_qa({\"question\": query})\n",
        "print(\"Answer:\")\n",
        "result[\"answer\"]"
      ]
    },
    {
      "cell_type": "code",
      "execution_count": 11,
      "metadata": {
        "id": "IJW3u4_Y7AHJ"
      },
      "outputs": [
        {
          "name": "stdout",
          "output_type": "stream",
          "text": [
            "Answer:\n"
          ]
        },
        {
          "data": {
            "text/plain": [
              "' The questionnaire was developed based on our understanding of the business model and the research objectives. It included both open-ended and closed-ended questions, and covered topics such as customer preferences, purchase behavior, and product availability. It was distributed to the selected participants via email and social media platforms.'"
            ]
          },
          "execution_count": 11,
          "metadata": {},
          "output_type": "execute_result"
        }
      ],
      "source": [
        "query2 = \"How is Questionnaire develped\"\n",
        "result = pdf_qa({\"question\": query2})\n",
        "print(\"Answer:\")\n",
        "result[\"answer\"]"
      ]
    },
    {
      "cell_type": "code",
      "execution_count": 12,
      "metadata": {},
      "outputs": [
        {
          "name": "stdout",
          "output_type": "stream",
          "text": [
            "Answer:\n"
          ]
        },
        {
          "data": {
            "text/plain": [
              "' Information is a resource that helps people to make decisions and take actions. It provides valuable insight and can be used to better understand a situation or develop strategies. It is a valuable asset with measurable cost and returns, so it is important to analyze the cost-benefit of using different sources of information and making wise decisions about how it is used.'"
            ]
          },
          "execution_count": 12,
          "metadata": {},
          "output_type": "execute_result"
        }
      ],
      "source": [
        "query3 = \"What is information as a resource\"\n",
        "result = pdf_qa({\"question\": query3})\n",
        "print(\"Answer:\")\n",
        "result[\"answer\"]"
      ]
    },
    {
      "cell_type": "code",
      "execution_count": null,
      "metadata": {},
      "outputs": [],
      "source": []
    }
  ],
  "metadata": {
    "colab": {
      "provenance": []
    },
    "kernelspec": {
      "display_name": "Python 3",
      "name": "python3"
    },
    "language_info": {
      "codemirror_mode": {
        "name": "ipython",
        "version": 3
      },
      "file_extension": ".py",
      "mimetype": "text/x-python",
      "name": "python",
      "nbconvert_exporter": "python",
      "pygments_lexer": "ipython3",
      "version": "3.11.3"
    }
  },
  "nbformat": 4,
  "nbformat_minor": 0
}
